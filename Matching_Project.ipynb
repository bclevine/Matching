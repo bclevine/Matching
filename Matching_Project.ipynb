{
 "cells": [
  {
   "cell_type": "markdown",
   "metadata": {},
   "source": [
    "# Matching Project"
   ]
  },
  {
   "cell_type": "code",
   "execution_count": 1,
   "metadata": {},
   "outputs": [],
   "source": [
    "import numpy as np\n",
    "import matplotlib.pyplot as plt\n",
    "%matplotlib inline\n",
    "import sys\n",
    "sys.path.insert(0, \"../.local/lib/python3.7/site-packages\")\n",
    "import kmeans_radec\n",
    "from kmeans_radec import KMeans, kmeans_sample"
   ]
  },
  {
   "cell_type": "code",
   "execution_count": 2,
   "metadata": {},
   "outputs": [],
   "source": [
    "from astropy.coordinates import SkyCoord\n",
    "import sys\n",
    "sys.path.insert(0, \"../../Assets/FoFCatalogMatching-master\")\n",
    "\n",
    "import FoFCatalogMatching\n",
    "import GCRCatalogs"
   ]
  },
  {
   "cell_type": "code",
   "execution_count": 3,
   "metadata": {},
   "outputs": [],
   "source": [
    "# load object catalog (for a single tract)\n",
    "object_cat = GCRCatalogs.load_catalog('dc2_object_run1.2i_all_columns')"
   ]
  },
  {
   "cell_type": "code",
   "execution_count": 4,
   "metadata": {},
   "outputs": [],
   "source": [
    "#Make cuts\n",
    "ra_min, ra_max = 55.0, 56.0\n",
    "dec_min, dec_max = -29.5, -28.5\n",
    "\n",
    "coord_filters = [\n",
    "    'ra >= {}'.format(ra_min),\n",
    "    'ra < {}'.format(ra_max),\n",
    "    'dec >= {}'.format(dec_min),\n",
    "    'dec < {}'.format(dec_max),\n",
    "]\n",
    "\n",
    "# Let's also define a magnitude cut\n",
    "mag_filters = [\n",
    "    (np.isfinite, 'mag_i'),\n",
    "    #'mag_i < 26',\n",
    "]"
   ]
  },
  {
   "cell_type": "code",
   "execution_count": 5,
   "metadata": {},
   "outputs": [],
   "source": [
    "###### Load ra and dec from object, using both of the filters we just defined.\n",
    "object_data = object_cat.get_quantities(['ra', 'dec', 'mag_i_cModel'], filters=(coord_filters + mag_filters), native_filters=['tract == 4850'])"
   ]
  },
  {
   "cell_type": "code",
   "execution_count": 6,
   "metadata": {},
   "outputs": [],
   "source": [
    "# Let's now turn to the truth catalog\n",
    "truth_cat = GCRCatalogs.load_catalog('dc2_truth_run1.2_static')"
   ]
  },
  {
   "cell_type": "code",
   "execution_count": 7,
   "metadata": {},
   "outputs": [],
   "source": [
    "# so we see there is no mag_i, but only mag_true_i (i.e., magnitude before lensing)\n",
    "# to make our `mag_filters` work, let's define mag_i for the truth catalog\n",
    "truth_cat.add_quantity_modifier('mag_i', truth_cat.get_quantity_modifier('mag_true_i'))"
   ]
  },
  {
   "cell_type": "code",
   "execution_count": 8,
   "metadata": {},
   "outputs": [],
   "source": [
    "# get ra and dec from truth catalog\n",
    "# note that we add i < 24.5 to the native filter to speed up load time\n",
    "truth_native_filters = (coord_filters) # + ['i < 26'])\n",
    "truth_data = truth_cat.get_quantities(['ra', 'dec', 'object_id', 'star', 'sprinkled', \"i\"], filters=mag_filters, native_filters=truth_native_filters)\n",
    "\n",
    "# We will use the object_id, star, and sprinkled columns when cross-referencing truth information with the extragalactic catalog."
   ]
  },
  {
   "cell_type": "code",
   "execution_count": 9,
   "metadata": {},
   "outputs": [
    {
     "name": "stdout",
     "output_type": "stream",
     "text": [
      "dict_keys(['i', 'ra', 'sprinkled', 'star', 'dec', 'object_id'])\n",
      "dict_keys(['mag_i_cModel', 'ra', 'dec'])\n",
      "[55.9289814  55.9252739  55.9451481  ... 55.87876475 55.34440951\n",
      " 55.16188598]\n"
     ]
    }
   ],
   "source": [
    "print(truth_data.keys())\n",
    "print(object_data.keys())\n",
    "print(truth_data['ra'])"
   ]
  },
  {
   "cell_type": "markdown",
   "metadata": {},
   "source": [
    "## Run kmeans on the data"
   ]
  },
  {
   "cell_type": "code",
   "execution_count": 10,
   "metadata": {},
   "outputs": [],
   "source": [
    "RA_data = np.array(truth_data['ra'])\n",
    "RA_data = RA_data.reshape((RA_data.shape[0], 1))\n",
    "DEC_data = np.array(truth_data['dec'])\n",
    "DEC_data = DEC_data.reshape((DEC_data.shape[0], 1))\n",
    "tru_data = np.append(RA_data, DEC_data, axis = 1)"
   ]
  },
  {
   "cell_type": "code",
   "execution_count": 11,
   "metadata": {},
   "outputs": [],
   "source": [
    "#Convert real data to array for use in kmeans_radec\n",
    "RA_data = np.array(object_data['ra'])\n",
    "RA_data = RA_data.reshape((RA_data.shape[0], 1))\n",
    "DEC_data = np.array(object_data['dec'])\n",
    "DEC_data = DEC_data.reshape((DEC_data.shape[0], 1))\n",
    "obj_data = np.append(RA_data, DEC_data, axis = 1)"
   ]
  },
  {
   "cell_type": "code",
   "execution_count": 13,
   "metadata": {},
   "outputs": [
    {
     "name": "stdout",
     "output_type": "stream",
     "text": [
      "X (1185, 2)  centers (10, 2)  tol=1e-05  maxiter=100\n",
      "15 iterations  cluster sizes: [106 110 135 156  89 128 144  82 123 112]\n",
      "X (351466, 2)  centers (10, 2)  tol=1e-05  maxiter=100\n",
      "21 iterations  cluster sizes: [34584 34406 46967 34514 30780 35218 42093 24863 39897 28144]\n"
     ]
    }
   ],
   "source": [
    "#Run kmeans_radec on the truth data\n",
    "X = tru_data\n",
    "# run no more than 100 iterations. Will stop if tolerance is met\n",
    "ncen = 10\n",
    "km = kmeans_sample(X, ncen, maxiter=100, tol=1.0e-5)\n",
    "\n",
    "obj_labels=km.find_nearest(obj_data)\n",
    "obj_labels.sort()\n",
    "tru_labels=km.find_nearest(tru_data)\n",
    "tru_labels.sort()"
   ]
  },
  {
   "cell_type": "code",
   "execution_count": 14,
   "metadata": {},
   "outputs": [],
   "source": [
    "import pandas as pd"
   ]
  },
  {
   "cell_type": "code",
   "execution_count": 15,
   "metadata": {},
   "outputs": [],
   "source": [
    "panda_truth = pd.DataFrame({\"ra\":truth_data['ra'],\"dec\":truth_data['dec'],\"labels\":tru_labels,\"i\":truth_data['i']})\n",
    "panda_object = pd.DataFrame({\"ra\":object_data['ra'],\"dec\":object_data['dec'],\"labels\":obj_labels,\"i\":object_data['mag_i_cModel']})"
   ]
  },
  {
   "cell_type": "code",
   "execution_count": 16,
   "metadata": {},
   "outputs": [
    {
     "name": "stdout",
     "output_type": "stream",
     "text": [
      "               ra        dec  labels          i\n",
      "0       55.928981 -28.578817       0  26.052091\n",
      "1       55.925274 -28.582050       0  23.451509\n",
      "2       55.945148 -28.586527       0  23.125852\n",
      "3       55.934273 -28.565390       0  17.065290\n",
      "4       55.937526 -28.570538       0  27.093467\n",
      "...           ...        ...     ...        ...\n",
      "351461  55.455055 -28.687077       9  29.223406\n",
      "351462  55.266123 -28.678822       9  32.162210\n",
      "351463  55.878765 -28.531424       9  31.762485\n",
      "351464  55.344410 -28.515579       9  32.122260\n",
      "351465  55.161886 -29.076537       9  32.419726\n",
      "\n",
      "[351466 rows x 4 columns]\n",
      "              ra        dec  labels          i\n",
      "0      55.982535 -29.499981       0  22.870318\n",
      "1      55.945923 -29.499410       0  24.213295\n",
      "2      55.954934 -29.498761       0  18.565756\n",
      "3      55.903585 -29.499185       0  23.179229\n",
      "4      55.958862 -29.498567       0  20.412199\n",
      "...          ...        ...     ...        ...\n",
      "74618  55.008376 -28.639439       9  26.400111\n",
      "74619  55.056698 -28.556196       9  25.680086\n",
      "74620  55.056622 -28.555808       9  26.236340\n",
      "74621  55.023431 -28.555389       9  25.796162\n",
      "74622  55.023823 -28.555292       9  25.667888\n",
      "\n",
      "[74623 rows x 4 columns]\n"
     ]
    }
   ],
   "source": [
    "print(panda_truth)\n",
    "print(panda_object)"
   ]
  },
  {
   "cell_type": "markdown",
   "metadata": {},
   "source": [
    "### Now we need to Jackknife the catalogs in preparation for matching."
   ]
  },
  {
   "cell_type": "code",
   "execution_count": 17,
   "metadata": {},
   "outputs": [],
   "source": [
    "truth_catalog_list = []\n",
    "object_catalog_list = []"
   ]
  },
  {
   "cell_type": "code",
   "execution_count": 18,
   "metadata": {},
   "outputs": [],
   "source": [
    "for i in range(ncen):\n",
    "    isn = panda_truth[\"labels\"] != i\n",
    "    filtered = panda_truth[isn]\n",
    "    truth_catalog_list.append(filtered)"
   ]
  },
  {
   "cell_type": "code",
   "execution_count": 19,
   "metadata": {},
   "outputs": [],
   "source": [
    "for i in range(ncen):\n",
    "    isn = panda_object[\"labels\"] != i\n",
    "    filtered = panda_object[isn]\n",
    "    object_catalog_list.append(filtered)"
   ]
  },
  {
   "cell_type": "code",
   "execution_count": 20,
   "metadata": {},
   "outputs": [
    {
     "name": "stdout",
     "output_type": "stream",
     "text": [
      "               ra        dec  labels          i\n",
      "34584   55.882834 -29.478820       1  22.393165\n",
      "34585   55.889568 -29.473876       1  24.444511\n",
      "34586   55.892996 -29.471966       1  26.890209\n",
      "34587   55.866663 -29.477635       1  27.411515\n",
      "34588   55.870775 -29.452780       1  28.388716\n",
      "...           ...        ...     ...        ...\n",
      "351461  55.455055 -28.687077       9  29.223406\n",
      "351462  55.266123 -28.678822       9  32.162210\n",
      "351463  55.878765 -28.531424       9  31.762485\n",
      "351464  55.344410 -28.515579       9  32.122260\n",
      "351465  55.161886 -29.076537       9  32.419726\n",
      "\n",
      "[316882 rows x 4 columns]\n"
     ]
    }
   ],
   "source": [
    "print(truth_catalog_list[0])"
   ]
  },
  {
   "cell_type": "markdown",
   "metadata": {},
   "source": [
    "### These dictionaries should be compatible with the FoF matching program. Let's try it."
   ]
  },
  {
   "cell_type": "code",
   "execution_count": 21,
   "metadata": {},
   "outputs": [
    {
     "name": "stdout",
     "output_type": "stream",
     "text": [
      "10\n"
     ]
    }
   ],
   "source": [
    "matching_results = []\n",
    "\n",
    "for i in range(ncen):\n",
    "    results = FoFCatalogMatching.match(\n",
    "        catalog_dict={'truth': truth_catalog_list[i], 'object': object_catalog_list[i]},\n",
    "        linking_lengths=1.0,)\n",
    "    matching_results.append(results)\n",
    "    \n",
    "print(len(matching_results))"
   ]
  },
  {
   "cell_type": "markdown",
   "metadata": {},
   "source": [
    "## Let's begin to analyze."
   ]
  },
  {
   "cell_type": "code",
   "execution_count": 55,
   "metadata": {},
   "outputs": [],
   "source": [
    "lost_magnitude_list = []"
   ]
  },
  {
   "cell_type": "markdown",
   "metadata": {},
   "source": [
    "### Important: To include undetected objects in analysis, edit the cell below."
   ]
  },
  {
   "cell_type": "code",
   "execution_count": 56,
   "metadata": {},
   "outputs": [],
   "source": [
    "for results in matching_results:\n",
    "    truth_mask = results['catalog_key'] == 'truth'\n",
    "    object_mask = ~truth_mask\n",
    "\n",
    "    n_groups = results['group_id'].max() + 1\n",
    "    n_truth = np.bincount(results['group_id'][truth_mask], minlength=n_groups)\n",
    "    n_object = np.bincount(results['group_id'][object_mask], minlength=n_groups)\n",
    "\n",
    "    # Let's further inspect the objects in the groups that have 1-to-1 truth/object match.\n",
    "\n",
    "    # first, let's find our the IDs of the groups that have 1-to-1 truth/object match:\n",
    "    one_to_one_group_mask = np.in1d(results['group_id'], np.flatnonzero((n_truth == 1) & (n_object == 1)))\n",
    "    \n",
    "    '''\n",
    "    \n",
    "    The following code REMOVES undetected objects from the analysis.\n",
    "    \n",
    "    '''\n",
    "    multiple_to_one_group_mask = np.in1d(results['group_id'], np.flatnonzero((n_truth >= 2) & (n_object == 1)))\n",
    "    \n",
    "    '''\n",
    "    \n",
    "    The following code ADDS undetected objects to the analysis. \n",
    "    \n",
    "    '''\n",
    "    #multiple_to_one_group_mask = np.in1d(results['group_id'], np.flatnonzero((n_truth > n_object)))\n",
    "    \n",
    "    \n",
    "    \n",
    "\n",
    "    # and then we can find the row indices in the *original* truth/object catalogs for those 1-to-1 groups\n",
    "    truth_idx = results['row_index'][multiple_to_one_group_mask & truth_mask]\n",
    "    object_idx = results['row_index'][multiple_to_one_group_mask & object_mask]\n",
    "    obj_group_id_list = list(results['group_id'][multiple_to_one_group_mask & object_mask])\n",
    "    truth_group_id_list = list(results['group_id'][multiple_to_one_group_mask & truth_mask])\n",
    "    truth_ind = list(truth_idx)\n",
    "    object_ind = list(object_idx)\n",
    "    \n",
    "    #Finally, we will find the lost magnitudes for the result. \n",
    "    #Store these in a list, which is appended to the lost_magnitude list.\n",
    "    lost_magnitudes = []\n",
    "    for i in obj_group_id_list:\n",
    "        #for every group...\n",
    "\n",
    "        matched_id_list = [j for j in range(len(truth_group_id_list)) if truth_group_id_list[j] == i]\n",
    "        #find the matching truth indicies of that group...\n",
    "        #matched_id_list is a list of list indicies for the given group id.\n",
    "        #we want to take these and convert them to row_index elements\n",
    "\n",
    "        truth_indicies = []\n",
    "        for k in matched_id_list:\n",
    "            truth_indicies.append(truth_ind[k])\n",
    "        #convert the matching indicies into catalog indicies...\n",
    "\n",
    "        #add the lowest magnitudes\n",
    "        magnitudes = []\n",
    "        for l in truth_indicies:\n",
    "            magnitudes.append(truth_data['i'][l])\n",
    "        #seen_magnitudes.append(np.min(magnitudes))\n",
    "        del magnitudes[np.argmin(magnitudes)]\n",
    "        lost_magnitudes += magnitudes\n",
    "    lost_magnitude_list.append(lost_magnitudes)"
   ]
  },
  {
   "cell_type": "code",
   "execution_count": 57,
   "metadata": {},
   "outputs": [
    {
     "name": "stdout",
     "output_type": "stream",
     "text": [
      "10\n"
     ]
    }
   ],
   "source": [
    "print(len(lost_magnitude_list))"
   ]
  },
  {
   "cell_type": "code",
   "execution_count": 58,
   "metadata": {},
   "outputs": [],
   "source": [
    "#Normalize results for ratio plots\n",
    "bins = 30\n",
    "\n",
    "l_objects_in_magnitude = []\n",
    "l_lost_in_magnitude = []\n",
    "#l_seen_in_magnitude = []\n",
    "\n",
    "for i in range(len(lost_magnitude_list)):\n",
    "    lost_mags = lost_magnitude_list[i]\n",
    "    \n",
    "    objects_in_magnitude = []\n",
    "    lost_in_magnitude = []\n",
    "    seen_in_magnitude = []\n",
    "    bin_size = (np.max(lost_mags)-np.min(lost_mags))/bins\n",
    "    bin_min = np.min(lost_mags)\n",
    "\n",
    "    truth_mag = list(truth_catalog_list[i]['i'])\n",
    "\n",
    "    for i in range(bins):\n",
    "        bin_max = bin_min + bin_size\n",
    "        l = list(x for x in truth_mag if bin_min <= x < bin_max)\n",
    "        objects_in_magnitude.append(len(l))\n",
    "        bin_min = bin_max\n",
    "\n",
    "    bin_min = np.min(lost_mags)\n",
    "    for i in range(bins):\n",
    "        bin_max = bin_min + bin_size\n",
    "        l = list(x for x in lost_mags if bin_min <= x < bin_max)\n",
    "        lost_in_magnitude.append(len(l))\n",
    "        bin_min = bin_max\n",
    "\n",
    "    '''bin_min = 18\n",
    "    for i in range(bins):\n",
    "        bin_max = bin_min + bin_size\n",
    "        l = list(x for x in seen_magnitudes if bin_min <= x < bin_max)\n",
    "        seen_in_magnitude.append(len(l))\n",
    "        bin_min = bin_max'''\n",
    "        \n",
    "    l_objects_in_magnitude.append(objects_in_magnitude)\n",
    "    l_lost_in_magnitude.append(lost_in_magnitude)\n",
    "    #l_seen_in_magnitude.append(seen_in_magnitude)"
   ]
  },
  {
   "cell_type": "markdown",
   "metadata": {},
   "source": [
    "## Now, all that's left is to calculate error and format for graphing."
   ]
  },
  {
   "cell_type": "code",
   "execution_count": 59,
   "metadata": {},
   "outputs": [],
   "source": [
    "bin_list = []\n",
    "bin_size = (np.max(lost_mags)-np.min(lost_mags))/bins\n",
    "bin_min = np.min(lost_mags)\n",
    "\n",
    "for i in range(bins):\n",
    "    bin_max = bin_min + bin_size\n",
    "    bin_list.append(bin_min + (.5*bin_size))\n",
    "    bin_min = bin_max"
   ]
  },
  {
   "cell_type": "code",
   "execution_count": 60,
   "metadata": {},
   "outputs": [],
   "source": [
    "lost_mag_means = np.sum(l_lost_in_magnitude, axis=0)\n",
    "lost_mag_means = np.divide(lost_mag_means,ncen)\n",
    "\n",
    "obj_mag_means = np.sum(l_objects_in_magnitude, axis=0)\n",
    "obj_mag_means = np.divide(obj_mag_means,ncen)"
   ]
  },
  {
   "cell_type": "code",
   "execution_count": 61,
   "metadata": {},
   "outputs": [],
   "source": [
    "lost_mag_sd = np.std(l_lost_in_magnitude, axis=0)\n",
    "lost_mag_sd = np.divide(lost_mag_sd,ncen)\n",
    "\n",
    "obj_mag_sd = np.std(l_objects_in_magnitude, axis=0)\n",
    "obj_mag_sd = np.divide(obj_mag_sd,ncen)"
   ]
  },
  {
   "cell_type": "code",
   "execution_count": 62,
   "metadata": {},
   "outputs": [],
   "source": [
    "#Follow error propagation to find total deviation\n",
    "total_sd = []\n",
    "for i in range(len(lost_mag_sd)):\n",
    "    A = lost_mag_sd[i]/lost_mag_means[i]\n",
    "    A = A**2\n",
    "    B = obj_mag_sd[i]/obj_mag_means[i]\n",
    "    B = B**2\n",
    "    C = np.sqrt(A+B)\n",
    "    total_sd.append(C * (lost_mag_means[i] / obj_mag_means[i]))"
   ]
  },
  {
   "cell_type": "code",
   "execution_count": 63,
   "metadata": {},
   "outputs": [
    {
     "data": {
      "text/plain": [
       "Text(0, 0.5, 'Proportion of Lost Objects to Total Objects')"
      ]
     },
     "execution_count": 63,
     "metadata": {},
     "output_type": "execute_result"
    },
    {
     "data": {
      "image/png": "[encoded data removed]",
      "text/plain": [
       "<Figure size 576x432 with 1 Axes>"
      ]
     },
     "metadata": {
      "needs_background": "light"
     },
     "output_type": "display_data"
    }
   ],
   "source": [
    "plt.figure(figsize=(8,6))\n",
    "plt.errorbar(bin_list, np.divide(lost_mag_means,obj_mag_means), total_sd)\n",
    "plt.title('Normalized Blending by Magnitude')\n",
    "plt.xlabel('Magnitude')\n",
    "plt.ylabel('Proportion of Lost Objects to Total Objects')"
   ]
  },
  {
   "cell_type": "code",
   "execution_count": null,
   "metadata": {},
   "outputs": [],
   "source": []
  },
  {
   "cell_type": "markdown",
   "metadata": {},
   "source": [
    "## The following plots are for diagnostic purposes only."
   ]
  },
  {
   "cell_type": "code",
   "execution_count": 50,
   "metadata": {},
   "outputs": [
    {
     "data": {
      "text/plain": [
       "Text(0.5, 1.0, 'Blending by Magnitude')"
      ]
     },
     "execution_count": 50,
     "metadata": {},
     "output_type": "execute_result"
    },
    {
     "data": {
      "image/png": "[encoded data removed]",
      "text/plain": [
       "<Figure size 432x288 with 1 Axes>"
      ]
     },
     "metadata": {
      "needs_background": "light"
     },
     "output_type": "display_data"
    }
   ],
   "source": [
    "plt.hist(lost_magnitude_list[3], bins=30)\n",
    "plt.xlabel('Magnitude')\n",
    "plt.ylabel('Objects Lost through Blending')\n",
    "plt.title('Blending by Magnitude')"
   ]
  },
  {
   "cell_type": "code",
   "execution_count": 51,
   "metadata": {},
   "outputs": [
    {
     "data": {
      "text/plain": [
       "Text(0, 0.5, 'Proportion of Lost Objects')"
      ]
     },
     "execution_count": 51,
     "metadata": {},
     "output_type": "execute_result"
    },
    {
     "data": {
      "image/png": "[encoded data removed]",
      "text/plain": [
       "<Figure size 432x288 with 1 Axes>"
      ]
     },
     "metadata": {
      "needs_background": "light"
     },
     "output_type": "display_data"
    }
   ],
   "source": [
    "plt.plot(np.divide(l_lost_in_magnitude[0],l_objects_in_magnitude[0]))\n",
    "plt.title('Normalized Blending by Magnitude')\n",
    "plt.xlabel('Magnitude Bins (ranging from i=0 to i=35)')\n",
    "plt.ylabel('Proportion of Lost Objects')"
   ]
  },
  {
   "cell_type": "code",
   "execution_count": 52,
   "metadata": {},
   "outputs": [
    {
     "data": {
      "text/plain": [
       "Text(0, 0.5, 'Proportion of Lost Objects')"
      ]
     },
     "execution_count": 52,
     "metadata": {},
     "output_type": "execute_result"
    },
    {
     "data": {
      "image/png": "[encoded data removed]",
      "text/plain": [
       "<Figure size 432x288 with 1 Axes>"
      ]
     },
     "metadata": {
      "needs_background": "light"
     },
     "output_type": "display_data"
    }
   ],
   "source": [
    "plt.plot(l_lost_in_magnitude[1])\n",
    "plt.title('Normalized Blending by Magnitude')\n",
    "plt.xlabel('Magnitude Bins (ranging from i=0 to i=35)')\n",
    "plt.ylabel('Proportion of Lost Objects')"
   ]
  },
  {
   "cell_type": "code",
   "execution_count": null,
   "metadata": {},
   "outputs": [],
   "source": []
  }
 ],
 "metadata": {
  "kernelspec": {
   "display_name": "desc-python",
   "language": "python",
   "name": "desc-python"
  },
  "language_info": {
   "codemirror_mode": {
    "name": "ipython",
    "version": 3
   },
   "file_extension": ".py",
   "mimetype": "text/x-python",
   "name": "python",
   "nbconvert_exporter": "python",
   "pygments_lexer": "ipython3",
   "version": "3.7.6"
  }
 },
 "nbformat": 4,
 "nbformat_minor": 4
}
