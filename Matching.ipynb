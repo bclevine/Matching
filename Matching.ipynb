{
 "cells": [
  {
   "cell_type": "code",
   "execution_count": 1,
   "metadata": {},
   "outputs": [],
   "source": [
    "import numpy as np\n",
    "import matplotlib.pyplot as plt\n",
    "%matplotlib inline\n",
    "import fitsio\n",
    "from astropy.io import fits\n",
    "import pandas as pd"
   ]
  },
  {
   "cell_type": "code",
   "execution_count": 4,
   "metadata": {},
   "outputs": [],
   "source": [
    "def distance(a):\n",
    "    #where a is a pair of coordinates\n",
    "    return np.sqrt(a[0]**2 + a[1]**2)"
   ]
  },
  {
   "cell_type": "code",
   "execution_count": 6,
   "metadata": {},
   "outputs": [],
   "source": [
    "def match(a, b, return_array=False):\n",
    "    #Where a and b are two matching catalogs; they are arrays of coordinate sets in form (ra,dec,mag).\n",
    "    if len(a) > len(b):\n",
    "        truth_cat = a\n",
    "        object_cat = b\n",
    "    else:\n",
    "        truth_cat = b\n",
    "        object_cat = a\n",
    "    \n",
    "    #The goal is to go through each element in the truth catalog and match it to an element in the object catalog.\n",
    "    \n",
    "    #Step 1: create a matching array. The matching array will be an array consisting of tuples in the following format:\n",
    "            #((truth_ra,truth_dec), (obj_ra,obj_dec), distance_between_elements)\n",
    "    matching_array = []\n",
    "    truth_array = []\n",
    "    matched_object_array = []\n",
    "    distance_array = []\n",
    "    \n",
    "    #Step 2: calculate matches for all truth elements\n",
    "    for coordinate_set in truth_cat:\n",
    "        temp_cat = np.abs(object_cat - coordinate_set)\n",
    "        dist_cat = list(map(distance,temp_cat))\n",
    "        dist_index = np.argmin(dist_cat)\n",
    "        dist = dist_cat[dist_index]\n",
    "        match_coords = object_cat[dist_index]\n",
    "        \n",
    "        truth_array.append(coordinate_set)\n",
    "        matched_object_array.append(match_coords)\n",
    "        distance_array.append(dist)\n",
    "        \n",
    "        matching_array.append([coordinate_set, match_coords, dist])\n",
    "        #So if two items in this array have the same match_coords,\n",
    "        #then one of them is an observation that has been lost through blending.\n",
    "    \n",
    "    if return_array:\n",
    "        return matching_array\n",
    "    else:\n",
    "        return truth_array, matched_object_array, distance_array"
   ]
  },
  {
   "cell_type": "code",
   "execution_count": 9,
   "metadata": {},
   "outputs": [],
   "source": [
    "#Now we have to count the number of \"lost\" truth objects.\n",
    "#We need to know which objects are lost, and we also need to know their magnitudes.\n",
    "\n",
    "#The output of this function will two lists in form: [(ra,dec)] and [magnitude].\n",
    "#The output will only contain lost objects. Any other objects should be ignored.\n",
    "\n",
    "def find_lost_objects(truth_catalog, matched_catalog):\n",
    "    lost_magnitude_list = []\n",
    "    lost_coordinate_list = []\n",
    "    match_coordinate_list = []\n",
    "    \n",
    "    \n",
    "    truth_ra, truth_dec, truth_mag = zip(*truth_catalog)\n",
    "    match_ra, match_dec, match_mag = zip(*matched_catalog)\n",
    "    \n",
    "    truth_ra = np.array(truth_ra)\n",
    "    truth_ra = truth_ra.reshape((truth_ra.shape[0], 1))\n",
    "    truth_dec = np.array(truth_dec)\n",
    "    truth_dec = truth_dec.reshape((truth_dec.shape[0], 1))\n",
    "    match_ra = np.array(match_ra)\n",
    "    match_ra = match_ra.reshape((match_ra.shape[0], 1))\n",
    "    match_dec = np.array(match_dec)\n",
    "    match_dec = match_dec.reshape((match_dec.shape[0], 1))\n",
    "    \n",
    "    truth_coords = np.append(truth_ra, truth_dec, axis = 1)\n",
    "    match_coords = np.append(match_ra, match_dec, axis = 1)\n",
    "    for index in range(len(truth_coords)):\n",
    "        coord = match_coords[index].tolist()\n",
    "        \n",
    "        if coord in match_coordinate_list:\n",
    "            lost_coordinate_list.append(truth_coords[index])\n",
    "            lost_magnitude_list.append(truth_mag[index])\n",
    "        else:\n",
    "            match_coordinate_list.append(coord)\n",
    "\n",
    "    return lost_coordinate_list, lost_magnitude_list"
   ]
  },
  {
   "cell_type": "markdown",
   "metadata": {},
   "source": [
    "# Okay now we can try this with an actual catalog."
   ]
  },
  {
   "cell_type": "code",
   "execution_count": 13,
   "metadata": {},
   "outputs": [],
   "source": [
    "import GCRCatalogs\n",
    "from GCR import GCRQuery"
   ]
  },
  {
   "cell_type": "code",
   "execution_count": 14,
   "metadata": {},
   "outputs": [],
   "source": [
    "# Load the blended catalog\n",
    "blended_catalog = GCRCatalogs.load_catalog('dc2_object_run1.2i')\n",
    "\n",
    "# We're going to cut the catalog for magnitude 18-24\n",
    "mag_bin_1 = [\n",
    "    GCRQuery('clean'), # The source has no flagged pixels (interpolated, saturated, edge, clipped...) \n",
    "                       # and was not skipped by the deblender\n",
    "    GCRQuery('18 < mag_i_cModel'),\n",
    "    GCRQuery('mag_i_cModel < 24'),\n",
    "]\n",
    "\n",
    "# Loads the blended data after cut\n",
    "mag_bin_1_data = blended_catalog.get_quantities(['ra', 'dec', 'mag_i_cModel'], \n",
    "                              filters = mag_bin_1,)\n",
    "\n",
    "\n",
    "\n",
    "\n",
    "\n",
    "#Load the true catalog\n",
    "truth_catalog = GCRCatalogs.load_catalog('dc2_truth_run1.2_static')\n",
    "\n",
    "# We're going to cut the catalog for magnitude 18-24\n",
    "truth_bin_1 = [\n",
    "    GCRQuery('18 < i'),\n",
    "    GCRQuery('i < 24'),\n",
    "    GCRQuery('star == False'),\n",
    "    GCRQuery('sprinkled == False'),\n",
    "]\n",
    "\n",
    "# Loads the truth data after cut\n",
    "truth_bin_1_data = truth_catalog.get_quantities(['ra', 'dec', 'i'], \n",
    "                              filters = truth_bin_1,)"
   ]
  },
  {
   "cell_type": "code",
   "execution_count": 15,
   "metadata": {},
   "outputs": [],
   "source": [
    "blend_data = pd.DataFrame(mag_bin_1_data) #Convert to dataframe\n",
    "truth_data = pd.DataFrame(truth_bin_1_data) #Convert to dataframe\n",
    "\n",
    "#We're going to significantly cut this data for the sake of computational speed.\n",
    "blend_data = blend_data[(blend_data['ra'] > 54) & (blend_data['ra'] < 55) & \\\n",
    "                            (blend_data['dec'] > -30) & (blend_data['dec'] < -29)]\n",
    "truth_data = truth_data[(truth_data['ra'] > 54) & (truth_data['ra'] < 55) & \\\n",
    "                            (truth_data['dec'] > -30) & (truth_data['dec'] < -29)]"
   ]
  },
  {
   "cell_type": "code",
   "execution_count": 16,
   "metadata": {},
   "outputs": [
    {
     "name": "stdout",
     "output_type": "stream",
     "text": [
      "24262\n",
      "32436\n"
     ]
    }
   ],
   "source": [
    "print(len(blend_data))\n",
    "print(len(truth_data))\n",
    "\n",
    "#Check the lengths of the datasets. These seem reasonable."
   ]
  },
  {
   "cell_type": "code",
   "execution_count": 18,
   "metadata": {},
   "outputs": [],
   "source": [
    "object_catalog = np.array(blend_data.iloc[:, ::-1])\n",
    "truth_catalog = np.array(truth_data.iloc[:, ::-1])"
   ]
  },
  {
   "cell_type": "code",
   "execution_count": 19,
   "metadata": {},
   "outputs": [],
   "source": [
    "#Ok run the thing...\n",
    "truth,matched,dist = match(object_catalog,truth_catalog)"
   ]
  },
  {
   "cell_type": "code",
   "execution_count": 20,
   "metadata": {},
   "outputs": [],
   "source": [
    "lost_coords, lost_mags = find_lost_objects(truth, matched)"
   ]
  },
  {
   "cell_type": "code",
   "execution_count": 27,
   "metadata": {},
   "outputs": [],
   "source": [
    "#This is the normalization code. It simply bins the lost mags set and the truth mags set, so that we can later divide them.\n",
    "\n",
    "bins = 50\n",
    "bin_size = (24-18)/50\n",
    "objects_in_magnitude = []\n",
    "lost_in_magnitude = []\n",
    "bin_min = 18\n",
    "\n",
    "truth_ra, truth_dec, truth_mag = zip(*truth_catalog)\n",
    "\n",
    "for i in range(bins):\n",
    "    bin_max = bin_min + bin_size\n",
    "    l = list(x for x in truth_mag if bin_min <= x < bin_max)\n",
    "    objects_in_magnitude.append(len(l))\n",
    "    bin_min = bin_max\n",
    "\n",
    "bin_min = 18\n",
    "for i in range(bins):\n",
    "    bin_max = bin_min + bin_size\n",
    "    l = list(x for x in lost_mags if bin_min <= x < bin_max)\n",
    "    lost_in_magnitude.append(len(l))\n",
    "    bin_min = bin_max"
   ]
  },
  {
   "cell_type": "code",
   "execution_count": 21,
   "metadata": {},
   "outputs": [
    {
     "data": {
      "text/plain": [
       "Text(0.5, 1.0, 'Blending by Magnitude')"
      ]
     },
     "execution_count": 21,
     "metadata": {},
     "output_type": "execute_result"
    },
    {
     "data": {
      "image/png": "[encoded data removed]",
      "text/plain": [
       "<Figure size 432x288 with 1 Axes>"
      ]
     },
     "metadata": {
      "needs_background": "light"
     },
     "output_type": "display_data"
    }
   ],
   "source": [
    "plt.hist(lost_mags, bins=50)\n",
    "plt.xlabel('Magnitude')\n",
    "plt.ylabel('Objects Lost through Blending')\n",
    "plt.title('Blending by Magnitude')"
   ]
  },
  {
   "cell_type": "code",
   "execution_count": 31,
   "metadata": {},
   "outputs": [
    {
     "data": {
      "text/plain": [
       "Text(0, 0.5, 'Proportion of Lost Objects')"
      ]
     },
     "execution_count": 31,
     "metadata": {},
     "output_type": "execute_result"
    },
    {
     "data": {
      "image/png": "[encoded data removed]",
      "text/plain": [
       "<Figure size 432x288 with 1 Axes>"
      ]
     },
     "metadata": {
      "needs_background": "light"
     },
     "output_type": "display_data"
    }
   ],
   "source": [
    "plt.plot(np.divide(lost_in_magnitude,objects_in_magnitude))\n",
    "plt.title('Normalized Blending by Magnitude')\n",
    "plt.xlabel('Magnitude Bins (ranging from i=18 to i=24)')\n",
    "plt.ylabel('Proportion of Lost Objects')"
   ]
  }
 ],
 "metadata": {
  "kernelspec": {
   "display_name": "desc-python",
   "language": "python",
   "name": "desc-python"
  },
  "language_info": {
   "codemirror_mode": {
    "name": "ipython",
    "version": 3
   },
   "file_extension": ".py",
   "mimetype": "text/x-python",
   "name": "python",
   "nbconvert_exporter": "python",
   "pygments_lexer": "ipython3",
   "version": "3.7.6"
  }
 },
 "nbformat": 4,
 "nbformat_minor": 4
}
